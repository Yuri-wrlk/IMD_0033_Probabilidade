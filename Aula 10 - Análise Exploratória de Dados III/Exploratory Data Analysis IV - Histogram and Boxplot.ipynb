{
 "cells": [
  {
   "cell_type": "markdown",
   "metadata": {},
   "source": [
    "## 1. Introduction\n",
    "\n",
    "In the last mission, we learned how to create bar plots to compare the average user rating a movie received from four movie review sites. We also learned how to create scatter plots to explore how ratings on one site compare with ratings on another site. We ended the mission with the observations that user ratings from Metacritic and Rotten Tomatoes spanned a larger range (1.0 to 5.0) while those from Fandango and IMDB spanned a smaller range (2.5 to 5 and 2 to 5 respectively).\n",
    "\n",
    "In this mission, we'll learn how to visualize the distributions of user ratings using **histograms** and **box plots**. We'll continue working with the same dataset from the last mission. Recall that you can download the dataset <span style=\"background-color: #F9EBEA; color:##C0392B\">fandango_scores.csv</span> from the [FiveThirtEight Github repo](https://github.com/fivethirtyeight/data/tree/master/fandango). We've read the dataset into pandas, selected the columns we're going to work with, and assigned the new Dataframe to <span style=\"background-color: #F9EBEA; color:##C0392B\">norm_reviews</span>."
   ]
  },
  {
   "cell_type": "code",
   "execution_count": 4,
   "metadata": {},
   "outputs": [
    {
     "data": {
      "text/html": [
       "<div>\n",
       "<table border=\"1\" class=\"dataframe\">\n",
       "  <thead>\n",
       "    <tr style=\"text-align: right;\">\n",
       "      <th></th>\n",
       "      <th>FILM</th>\n",
       "      <th>RT_user_norm</th>\n",
       "      <th>Metacritic_user_nom</th>\n",
       "      <th>IMDB_norm</th>\n",
       "      <th>Fandango_Ratingvalue</th>\n",
       "    </tr>\n",
       "  </thead>\n",
       "  <tbody>\n",
       "    <tr>\n",
       "      <th>0</th>\n",
       "      <td>Avengers: Age of Ultron (2015)</td>\n",
       "      <td>4.3</td>\n",
       "      <td>3.55</td>\n",
       "      <td>3.90</td>\n",
       "      <td>4.5</td>\n",
       "    </tr>\n",
       "    <tr>\n",
       "      <th>1</th>\n",
       "      <td>Cinderella (2015)</td>\n",
       "      <td>4.0</td>\n",
       "      <td>3.75</td>\n",
       "      <td>3.55</td>\n",
       "      <td>4.5</td>\n",
       "    </tr>\n",
       "    <tr>\n",
       "      <th>2</th>\n",
       "      <td>Ant-Man (2015)</td>\n",
       "      <td>4.5</td>\n",
       "      <td>4.05</td>\n",
       "      <td>3.90</td>\n",
       "      <td>4.5</td>\n",
       "    </tr>\n",
       "    <tr>\n",
       "      <th>3</th>\n",
       "      <td>Do You Believe? (2015)</td>\n",
       "      <td>4.2</td>\n",
       "      <td>2.35</td>\n",
       "      <td>2.70</td>\n",
       "      <td>4.5</td>\n",
       "    </tr>\n",
       "    <tr>\n",
       "      <th>4</th>\n",
       "      <td>Hot Tub Time Machine 2 (2015)</td>\n",
       "      <td>1.4</td>\n",
       "      <td>1.70</td>\n",
       "      <td>2.55</td>\n",
       "      <td>3.0</td>\n",
       "    </tr>\n",
       "  </tbody>\n",
       "</table>\n",
       "</div>"
      ],
      "text/plain": [
       "                             FILM  RT_user_norm  Metacritic_user_nom  \\\n",
       "0  Avengers: Age of Ultron (2015)           4.3                 3.55   \n",
       "1               Cinderella (2015)           4.0                 3.75   \n",
       "2                  Ant-Man (2015)           4.5                 4.05   \n",
       "3          Do You Believe? (2015)           4.2                 2.35   \n",
       "4   Hot Tub Time Machine 2 (2015)           1.4                 1.70   \n",
       "\n",
       "   IMDB_norm  Fandango_Ratingvalue  \n",
       "0       3.90                   4.5  \n",
       "1       3.55                   4.5  \n",
       "2       3.90                   4.5  \n",
       "3       2.70                   4.5  \n",
       "4       2.55                   3.0  "
      ]
     },
     "execution_count": 4,
     "metadata": {},
     "output_type": "execute_result"
    }
   ],
   "source": [
    "import pandas as pd\n",
    "import matplotlib.pyplot as plt\n",
    "reviews = pd.read_csv('fandango_scores.csv')\n",
    "cols = ['FILM', 'RT_user_norm', 'Metacritic_user_nom', 'IMDB_norm', 'Fandango_Ratingvalue']\n",
    "norm_reviews = reviews[cols]\n",
    "norm_reviews.head()"
   ]
  },
  {
   "cell_type": "markdown",
   "metadata": {},
   "source": [
    "## 2. Frequency distribution\n",
    "\n",
    "Let's first compare the **frequency distributions** of user ratings from Fandango with those from IMDB using tables. A column's [frequency distribution](https://en.wikipedia.org/wiki/Frequency_distribution) consists of the unique values in that column along with the count for each of those values (or their frequency). We can use [Series.value_counts()](http://pandas.pydata.org/pandas-docs/stable/generated/pandas.Series.value_counts.html) to return the frequency distribution as Series object:\n",
    "\n",
    ">```python\n",
    "freq_counts = norm_reviews['Fandango_Ratingvalue'].value_counts()\n",
    "```\n",
    "\n",
    "The resulting Series object will be sorted by frequency in descending order:\n",
    "\n",
    "<img width=\"200\" alt=\"creating a repo\" src=\"https://drive.google.com/uc?export=view&id=0BxhVm1REqwr0eDJOdG9qMWJ0MUE\">\n",
    "\n",
    "\n",
    "While this ordering is helpful when we're looking to quickly find the most common values in a given column, it's not helpful when trying to understand the range that the values in the column span. We can use [Series.sort_index()](http://pandas.pydata.org/pandas-docs/stable/generated/pandas.Series.sort_index.html) to sort the frequency distribution in ascending order by the values in the column (which make up the index for the Series object):\n",
    "\n",
    ">```python\n",
    "freq_counts = norm_reviews['Fandango_Ratingvalue'].value_counts()\n",
    "sorted_freq_counts = freq_counts.sort_index()\n",
    "```\n",
    "\n",
    "Here's what both frequency distributions look like side-by-side:\n",
    "\n",
    "<img width=\"400\" alt=\"creating a repo\" src=\"https://drive.google.com/uc?export=view&id=0BxhVm1REqwr0QWRWN21mM0FzeVU\">\n",
    "\n",
    "\n",
    "<br>\n",
    "<div class=\"alert alert-info\">\n",
    "<b>Exercise Start.</b>\n",
    "</div>\n",
    "\n",
    "**Description**:\n",
    "\n",
    "1. Use the <span style=\"background-color: #F9EBEA; color:##C0392B\">value_counts()</span> method to return the frequency counts for the <span style=\"background-color: #F9EBEA; color:##C0392B\">Fandango_Ratingvalue</span> column. Sort the resulting Series object by the index and assign to <span style=\"background-color: #F9EBEA; color:##C0392B\">fandango_distribution</span>.\n",
    "2. Use the <span style=\"background-color: #F9EBEA; color:##C0392B\">value_counts()</span> method to return frequency counts the <span style=\"background-color: #F9EBEA; color:##C0392B\">IMDB_norm</span> column. Sort the resulting Series object by the index and assign to <span style=\"background-color: #F9EBEA; color:##C0392B\">imdb_distribution</span>.\n",
    "3. Use the <span style=\"background-color: #F9EBEA; color:##C0392B\">print()</span> function to display fandango_distribution and <span style=\"background-color: #F9EBEA; color:##C0392B\">imdb_distribution</span>."
   ]
  },
  {
   "cell_type": "code",
   "execution_count": 7,
   "metadata": {},
   "outputs": [
    {
     "name": "stdout",
     "output_type": "stream",
     "text": [
      "2.7     2\n",
      "2.8     2\n",
      "2.9     5\n",
      "3.0     4\n",
      "3.1     3\n",
      "3.2     5\n",
      "3.3     4\n",
      "3.4     9\n",
      "3.5     9\n",
      "3.6     8\n",
      "3.7     9\n",
      "3.8     5\n",
      "3.9    12\n",
      "4.0     7\n",
      "4.1    16\n",
      "4.2    12\n",
      "4.3    11\n",
      "4.4     7\n",
      "4.5     9\n",
      "4.6     4\n",
      "4.8     3\n",
      "Name: Fandango_Ratingvalue, dtype: int64\n",
      "2.00     1\n",
      "2.10     1\n",
      "2.15     1\n",
      "2.20     1\n",
      "2.30     2\n",
      "2.45     2\n",
      "2.50     1\n",
      "2.55     1\n",
      "2.60     2\n",
      "2.70     4\n",
      "2.75     5\n",
      "2.80     2\n",
      "2.85     1\n",
      "2.90     1\n",
      "2.95     3\n",
      "3.00     2\n",
      "3.05     4\n",
      "3.10     1\n",
      "3.15     9\n",
      "3.20     6\n",
      "3.25     4\n",
      "3.30     9\n",
      "3.35     7\n",
      "3.40     1\n",
      "3.45     7\n",
      "3.50     4\n",
      "3.55     7\n",
      "3.60    10\n",
      "3.65     5\n",
      "3.70     8\n",
      "3.75     6\n",
      "3.80     3\n",
      "3.85     4\n",
      "3.90     9\n",
      "3.95     2\n",
      "4.00     1\n",
      "4.05     1\n",
      "4.10     4\n",
      "4.15     1\n",
      "4.20     2\n",
      "4.30     1\n",
      "Name: IMDB_norm, dtype: int64\n"
     ]
    }
   ],
   "source": [
    "fandango_distribution = norm_reviews['Fandango_Ratingvalue'].value_counts().sort_index()\n",
    "imdb_distribution = norm_reviews['IMDB_norm'].value_counts().sort_index()\n",
    "print(fandango_distribution)\n",
    "print(imdb_distribution)"
   ]
  },
  {
   "cell_type": "markdown",
   "metadata": {},
   "source": [
    "## 3. Binning\n",
    "\n",
    "Because there are only a few unique values, we can quickly scan the frequency counts and confirm that the <span style=\"background-color: #F9EBEA; color:##C0392B\">Fandango_Ratingvalue</span> column ranges from 2.7 to 4.8 while the <span style=\"background-color: #F9EBEA; color:##C0392B\">IMDB_norm</span> column ranges from 2 to 4.3. While we can quickly determine the minimum and maximum values, we struggle to answer the following questions about a column:\n",
    "\n",
    "- What percent of the ratings are contained in the 2.0 to 4.0 range?\n",
    "    - How does this compare with other sites?\n",
    "- Which values represent the top 25% of the ratings? The bottom 25%?\n",
    "    - How does this compare with other sites?\n",
    "    \n",
    "Comparing frequency distributions is also challenging because the <span style=\"background-color: #F9EBEA; color:##C0392B\">Fandango_Ratingvalue</span> column contains 21 unique values while <span style=\"background-color: #F9EBEA; color:##C0392B\">IMDB_norm</span> contains 41 unique values. We need a way to compare frequencies across a shared set of values. Because all ratings have been normalized to a range of 0 to 5, we can start by dividing the range of possible values into a series of fixed length intervals, called **bins**. We can then sum the frequencies for the values that fall into each bin. Here's a diagram that makes binning easier to understand:\n",
    "\n",
    "<img width=\"600\" alt=\"creating a repo\" src=\"https://drive.google.com/uc?export=view&id=0BxhVm1REqwr0eGRDTDR1VExkdkU\">\n",
    "\n",
    "\n",
    "The distributions for both of these columns are now easier to compare because of the shared x-axis (the bins). We can now plot the bins along with the frequency sums as a bar plot. This type of plot is called a [histogram](https://en.wikipedia.org/wiki/Histogram). Let's dive right into creating a histogram in matplotlib.\n"
   ]
  },
  {
   "cell_type": "markdown",
   "metadata": {},
   "source": [
    "## 4. Histogram in matplotlib\n",
    "\n",
    "We can generate a histogram using [Axes.hist()](http://matplotlib.org/api/axes_api.html#matplotlib.axes.Axes.hist). This method has only 1 required parameter, an iterable object containing the values we want a histogram for. By default, matplotlib will:\n",
    "\n",
    "- calculate the minimum and maximum value from the sequence of values we passed in\n",
    "- create 10 bins of equal length that span the range from the minimum to the maximum value\n",
    "- group unique values into the bins\n",
    "- sum up the associated unique values\n",
    "- generate a bar for the frequency sum for each bin\n",
    "\n",
    "The default behavior of <span style=\"background-color: #F9EBEA; color:##C0392B\">Axes.hist()</span> is problematic for the use case of comparing distributions for multiple columns using the same binning strategy. This is because the binning strategy for each column would depend on the minimum and maximum values, instead of a shared binning strategy. We can use the range parameter to specify the <span style=\"background-color: #F9EBEA; color:##C0392B\">range</span> we want matplotlib to use as a tuple:\n",
    "\n",
    ">```python\n",
    "ax.hist(norm_reviews['Fandango_Ratingvalue'], range=(0, 5))\n",
    "```\n",
    "\n",
    "While histograms use bars whose lengths are scaled to the values they're representing, they differ from bar plots in a few ways. Histograms help us visualize continuous values using bins while bar plots help us visualize discrete values. The locations of the bars on the x-axis matter in a histogram but they don't in a simple bar plot. Lastly, bar plots also have gaps between the bars, to emphasize that the values are discrete.\n",
    "\n",
    "\n",
    "<br>\n",
    "<div class=\"alert alert-info\">\n",
    "<b>Exercise Start.</b>\n",
    "</div>\n",
    "\n",
    "**Description**:\n",
    "\n",
    "1. Create a single subplot and assign the returned Figure object to <span style=\"background-color: #F9EBEA; color:##C0392B\">fig</span> and the returned Axes object to <span style=\"background-color: #F9EBEA; color:##C0392B\">ax</span>.\n",
    "2. Generate a histogram from the values in the <span style=\"background-color: #F9EBEA; color:##C0392B\">Fandango_Ratingvalue</span> column using a range of <span style=\"background-color: #F9EBEA; color:##C0392B\">0</span> to <span style=\"background-color: #F9EBEA; color:##C0392B\">5</span>.\n",
    "3. Use <span style=\"background-color: #F9EBEA; color:##C0392B\">plt.show()</span> to display the plot."
   ]
  },
  {
   "cell_type": "code",
   "execution_count": 11,
   "metadata": {},
   "outputs": [
    {
     "data": {
      "image/png": "[encoded data removed]",
      "text/plain": [
       "<matplotlib.figure.Figure at 0x185ae18a898>"
      ]
     },
     "metadata": {},
     "output_type": "display_data"
    }
   ],
   "source": [
    "fig, ax = plt.subplots()\n",
    "ax.hist(norm_reviews['Fandango_Ratingvalue'], range=(0,5))\n",
    "plt.show()"
   ]
  },
  {
   "cell_type": "markdown",
   "metadata": {},
   "source": [
    "## 5. Comparing histograms\n",
    "\n",
    "If you recall, one of the questions we were looking to answer was:\n",
    "\n",
    "- What percent of the ratings are contained in the 2.0 to 4.0 range?\n",
    "\n",
    "We can visually examine the proportional area that the bars in the 2.0 to 4.0 range take up and determine that more than 50% of the movies on Fandango fall in this range. We can increase the number of bins from 10 to 20 for improved resolution of the distribution. The length of each bin will be 0.25 (5 / 20) instead of 0.5 (5 / 10). The <span style=\"background-color: #F9EBEA; color:##C0392B\">bins</span> parameter for <span style=\"background-color: #F9EBEA; color:##C0392B\">Axes.hist()</span> is the 2nd positional parameter, but can also be specified as a named parameter:\n",
    "\n",
    ">```python\n",
    "# Either of these will work.\n",
    "ax.hist(norm_reviews['Fandango_Ratingvalue'], 20, range=(0, 5))\n",
    "ax.hist(norm_reviews['Fandango_Ratingvalue'], bins=20, range=(0, 5))\n",
    "```\n",
    "\n",
    "Let's now generate histograms using 20 bins for all four columns. To ensure that the scales for the y-axis are the same for all histograms, let's set them manually using <span style=\"background-color: #F9EBEA; color:##C0392B\">Axes.set_ylim()</span>.\n",
    "\n",
    "<br>\n",
    "<div class=\"alert alert-info\">\n",
    "<b>Exercise Start.</b>\n",
    "</div>\n",
    "\n",
    "**Description**:\n",
    "\n",
    "1. For the subplot associated with <span style=\"background-color: #F9EBEA; color:##C0392B\">ax1</span>:\n",
    "    - Generate a histogram of the values in the <span style=\"background-color: #F9EBEA; color:##C0392B\">Fandango_Ratingvalue</span> column using **20 bins** and a range of **0** to **5**.\n",
    "    - Set the title to <span style=\"background-color: #F9EBEA; color:##C0392B\">Distribution of Fandango Ratings</span>.\n",
    "2. For the subplot associated with <span style=\"background-color: #F9EBEA; color:##C0392B\">ax2</span>:\n",
    "    - Generate a histogram of the values in the <span style=\"background-color: #F9EBEA; color:##C0392B\">RT_user_norm</span> column using **20 bins** and a range of **0** to **5**.\n",
    "    - Set the title to <span style=\"background-color: #F9EBEA; color:##C0392B\">Distribution of Rotten Tomatoes Ratings</span>.\n",
    "3. For the subplot associated with <span style=\"background-color: #F9EBEA; color:##C0392B\">ax3</span>:\n",
    "    - Generate a histogram of the values in the <span style=\"background-color: #F9EBEA; color:##C0392B\">Metacritic_user_nom</span> column using **20 bins** and a range of **0** to **5**.\n",
    "    - Set the title to <span style=\"background-color: #F9EBEA; color:##C0392B\">Distribution of Metacritic Ratings</span>.\n",
    "4. For the subplot associated with <span style=\"background-color: #F9EBEA; color:##C0392B\">ax4</span>:\n",
    "    - Generate a histogram of the values in the <span style=\"background-color: #F9EBEA; color:##C0392B\">IMDB_norm</span> column using **20 bins** and a range of **0** to **5**.\n",
    "    - Set the title to <span style=\"background-color: #F9EBEA; color:##C0392B\">Distribution of IMDB Ratings</span>.\n",
    "5. For all subplots:\n",
    "    - Set the y-axis range to **0** to **50** using <span style=\"background-color: #F9EBEA; color:##C0392B\">Axes.set_ylim()</span>.\n",
    "    - Set the y-axis label to <span style=\"background-color: #F9EBEA; color:##C0392B\">Frequency</span> using <span style=\"background-color: #F9EBEA; color:##C0392B\">Axes.set_ylabel()</span>.\n",
    "    - Use <span style=\"background-color: #F9EBEA; color:##C0392B\">plt.show()</span> to display the plots."
   ]
  },
  {
   "cell_type": "code",
   "execution_count": 19,
   "metadata": {},
   "outputs": [
    {
     "data": {
      "image/png": "[encoded data removed]",
      "text/plain": [
       "<matplotlib.figure.Figure at 0x185b0343320>"
      ]
     },
     "metadata": {},
     "output_type": "display_data"
    }
   ],
   "source": [
    "fig = plt.figure(figsize=(15, 15))\n",
    "# Fandango Graphic\n",
    "ax1 = fig.add_subplot(2, 2, 1)\n",
    "ax1.hist(norm_reviews['Fandango_Ratingvalue'], bins=20, range=(0,5))\n",
    "ax1.set_title('Distribution of Fandango Ratings')\n",
    "ax1.set_ylim(0, 50)\n",
    "ax1.set_ylabel('Frequency')\n",
    "\n",
    "# RT Graphic\n",
    "ax2 = fig.add_subplot(2, 2, 2)\n",
    "ax2.hist(norm_reviews['RT_user_norm'], bins=20, range=(0,5))\n",
    "ax2.set_title('Distribution of Rotten Tomatoes Ratings')\n",
    "ax2.set_ylim(0, 50)\n",
    "ax2.set_ylabel('Frequency')\n",
    "\n",
    "# Metacritic Graphic\n",
    "ax3 = fig.add_subplot(2, 2, 3)\n",
    "ax3.hist(norm_reviews['Metacritic_user_nom'], bins=20, range=(0,5))\n",
    "ax3.set_title('Distribution of Metacritic Ratings')\n",
    "ax3.set_ylim(0, 50)\n",
    "ax3.set_ylabel('Frequency')\n",
    "\n",
    "# IMDB Graphic\n",
    "ax4 = fig.add_subplot(2, 2, 4)\n",
    "ax4.hist(norm_reviews['IMDB_norm'], bins=20, range=(0,5))\n",
    "ax4.set_title('Distribution of IMDB Ratings')\n",
    "ax3.set_ylim(0, 50)\n",
    "ax3.set_ylabel('Frequency')\n",
    "\n",
    "plt.show()"
   ]
  },
  {
   "cell_type": "markdown",
   "metadata": {},
   "source": [
    "## 6. Quartiles\n",
    "\n",
    "From the histograms, we can make the following observations:\n",
    "\n",
    "- Around 50% of user ratings from Fandango fall in the 2 to 4 score range\n",
    "- Around 50% of user ratings from Rotten Tomatoes fall in the 2 to 4 score range\n",
    "- Around 75% of the user ratings from Metacritic fall in the 2 to 4 score range\n",
    "- Around 90% of the user ratings from IMDB fall in the 2 to 4 score range\n",
    "\n",
    "While histograms allow us to visually estimate the percentage of ratings that fall into a range of bins, they don't allow us to easily understand how the top 25% or the bottom 25% of the ratings differ across the sites. The bottom 25% of values and top 25% of values both represent [quartiles](https://en.wikipedia.org/wiki/Quartile). The four quartiles divide the range of values into four regions where each region contains 1/4th of the total values.\n",
    "\n",
    "While these regions may sound similar to bins, they differ in how values are grouped into each region. Each bin covers an equal proportion of the values in the range. On the other hand, each quantile covers an equal number of values (1/4th of the total values). To visualize quartiles, we need to use a box plot, also referred to as a [box-and-whisker plot](https://en.wikipedia.org/wiki/Box_plot)."
   ]
  },
  {
   "cell_type": "markdown",
   "metadata": {},
   "source": [
    "## 7. Box plot\n",
    "\n",
    "A box plot consists of <span style=\"background-color: #F9EBEA; color:##C0392B\">box-and-whisker</span> diagrams, which represents the different quartiles in a visual way. Here's a box plot of the values in the <span style=\"background-color: #F9EBEA; color:##C0392B\">RT_user_norm</span> column:\n",
    "\n",
    "<img width=\"400\" alt=\"creating a repo\" src=\"https://drive.google.com/uc?export=view&id=0BxhVm1REqwr0R1loNlM0cjI5ZU0\">\n",
    "\n",
    "The two regions contained within the box in the middle make up the **interquartile range**, or **IQR**. The [IQR](https://en.wikipedia.org/wiki/Interquartile_range) is used to measure dispersion of the values. The ratio of the length of the box to the whiskers around the box helps us understand how values in the distribution are spread out.\n",
    "\n",
    "We can generate a boxplot using [Axes.boxplot()](http://matplotlib.org/api/axes_api.html#matplotlib.axes.Axes.boxplot).\n",
    "\n",
    ">```python\n",
    "ax.boxplot(norm_reviews['RT_user_norm'])\n",
    "```\n",
    "\n",
    "Matplotlib will sort the values, calculate the quartiles that divide the values into four equal regions, and generate the box and whisker diagram.\n",
    "\n",
    "\n",
    "<br>\n",
    "<div class=\"alert alert-info\">\n",
    "<b>Exercise Start.</b>\n",
    "</div>\n",
    "\n",
    "**Description**:\n",
    "\n",
    "1. Create a single subplot and assign the returned Figure object to <span style=\"background-color: #F9EBEA; color:##C0392B\">fig</span> and the returned Axes object to <span style=\"background-color: #F9EBEA; color:##C0392B\">ax</span>.\n",
    "2. Generate a box plot from the values in the <span style=\"background-color: #F9EBEA; color:##C0392B\">RT_user_norm</span> column.\n",
    "    - Set the y-axis limit to range from **0** to **5**.\n",
    "    - Set the x-axis tick label to **Rotten Tomatoes**.\n",
    "3. Use <span style=\"background-color: #F9EBEA; color:##C0392B\">plt.show()</span> to display the plot."
   ]
  },
  {
   "cell_type": "code",
   "execution_count": 22,
   "metadata": {},
   "outputs": [
    {
     "data": {
      "image/png": "[encoded data removed]",
      "text/plain": [
       "<matplotlib.figure.Figure at 0x185aec809b0>"
      ]
     },
     "metadata": {},
     "output_type": "display_data"
    }
   ],
   "source": [
    "fig, ax = plt.subplots()\n",
    "ax.boxplot(norm_reviews['RT_user_norm'])\n",
    "ax.set_ylim(0, 5)\n",
    "ax.set_xlabel('Rotten Tomatoes')\n",
    "plt.show()"
   ]
  },
  {
   "cell_type": "markdown",
   "metadata": {},
   "source": [
    "## 8. Multiple box plots\n",
    "\n",
    "From the box plot we generated using Rotten Tomatoes ratings, we can conclude that:\n",
    "- the bottom 25% of user ratings range from around 1 to 2.5\n",
    "- the top 25% of of user ratings range from around 4 to 4.6\n",
    "\n",
    "To compare the lower and upper ranges with those for the other columns, we need to generate multiple box-and-whisker diagrams in the same box plot. When selecting multiple columns to pass in to <span style=\"background-color: #F9EBEA; color:##C0392B\">Axes.boxplot()</span>, we need to use the <span style=\"background-color: #F9EBEA; color:##C0392B\">values</span> accessor to return a multi-dimensional numpy array:\n",
    "\n",
    ">```ptyhon\n",
    "num_cols = ['RT_user_norm', 'Metacritic_user_nom', 'IMDB_norm', 'Fandango_Ratingvalue', 'Fandango_Stars']\n",
    "ax.boxplot(norm_reviews[num_cols].values)\n",
    "```\n",
    "\n",
    "<br>\n",
    "<div class=\"alert alert-info\">\n",
    "<b>Exercise Start.</b>\n",
    "</div>\n",
    "\n",
    "**Description**:\n",
    "\n",
    "1. Create a single subplot and assign the returned Figure object to <span style=\"background-color: #F9EBEA; color:##C0392B\">fig</span> and the returned Axes object to <span style=\"background-color: #F9EBEA; color:##C0392B\">ax</span>.\n",
    "2. Generate a box plot containing a box-and-whisker diagram for each column in <span style=\"background-color: #F9EBEA; color:##C0392B\">num_cols</span>.\n",
    "3. Set the x-axis tick labels to the column names in <span style=\"background-color: #F9EBEA; color:##C0392B\">num_cols</span> and rotate the ticks by **90 degrees**.\n",
    "4. Set the y-axis limit to range from **0** to **5**.\n",
    "5. Use <span style=\"background-color: #F9EBEA; color:##C0392B\">plt.show()</span> to display the plot."
   ]
  },
  {
   "cell_type": "code",
   "execution_count": 26,
   "metadata": {},
   "outputs": [
    {
     "data": {
      "image/png": "[encoded data removed]",
      "text/plain": [
       "<matplotlib.figure.Figure at 0x185aeddfd30>"
      ]
     },
     "metadata": {},
     "output_type": "display_data"
    }
   ],
   "source": [
    "fig, ax = plt.subplots()\n",
    "num_cols = ['RT_user_norm', 'Metacritic_user_nom', 'IMDB_norm', 'Fandango_Ratingvalue']\n",
    "ax.boxplot(norm_reviews[num_cols].values)\n",
    "ax.set_xlabel(num_cols)\n",
    "ax.set_ylim(0, 5)\n",
    "plt.show()"
   ]
  },
  {
   "cell_type": "markdown",
   "metadata": {},
   "source": [
    "## 9. Conclusion\n",
    "\n",
    "From the boxplot, we can reach the following conclusions:\n",
    "\n",
    "user ratings from Rotten Tomatoes and Metacritic span a larger range of values\n",
    "user ratings from IMDB and Fandango are both skewed in the positive direction and span a more constrained range of values"
   ]
  },
  {
   "cell_type": "code",
   "execution_count": null,
   "metadata": {
    "collapsed": true
   },
   "outputs": [],
   "source": []
  }
 ],
 "metadata": {
  "kernelspec": {
   "display_name": "Python 3",
   "language": "python",
   "name": "python3"
  },
  "language_info": {
   "codemirror_mode": {
    "name": "ipython",
    "version": 3
   },
   "file_extension": ".py",
   "mimetype": "text/x-python",
   "name": "python",
   "nbconvert_exporter": "python",
   "pygments_lexer": "ipython3",
   "version": "3.6.1"
  }
 },
 "nbformat": 4,
 "nbformat_minor": 2
}
