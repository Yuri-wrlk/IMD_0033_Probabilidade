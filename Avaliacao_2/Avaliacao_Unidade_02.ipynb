{
 "cells": [
  {
   "cell_type": "markdown",
   "metadata": {},
   "source": [
    "Avaliação - Unidade 02\n",
    "==="
   ]
  },
  {
   "cell_type": "markdown",
   "metadata": {},
   "source": [
    "Identificação dos alunos (nome completo): \n",
    "\n",
    "- Este trabalho irá compor 40% da segunda unidade.\n",
    "- Grupo de até dois alunos.\n",
    "- Os alunos deverão enviar (apenas um por grupo) através do Sigaa, o notebook e os datasets gerados na avaliação em um arquivo compactado (.zip). \n",
    "- Todas as respostas devem ser realizadas através de código python e os resultados explicados em estilo markdown\n",
    "- As informações (datasets) necessárias para resolução dos problemas podem ser encontradas em http://dados.ufrn.br/group/ensino\n"
   ]
  },
  {
   "cell_type": "markdown",
   "metadata": {},
   "source": [
    "1. (1 ponto) Quantas e quais disciplinas com código IMD foram consolidadas em 2017.1? \n",
    "**Dica:** \n",
    ">```python\n",
    "df[df['A'].str.contains(\"hello\")]\n",
    "```"
   ]
  },
  {
   "cell_type": "code",
   "execution_count": 1,
   "metadata": {
    "collapsed": true
   },
   "outputs": [],
   "source": [
    "import pandas as pd"
   ]
  },
  {
   "cell_type": "code",
   "execution_count": 14,
   "metadata": {
    "collapsed": false
   },
   "outputs": [
    {
     "data": {
      "text/html": [
       "<div>\n",
       "<table border=\"1\" class=\"dataframe\">\n",
       "  <thead>\n",
       "    <tr style=\"text-align: right;\">\n",
       "      <th></th>\n",
       "      <th>id_turma</th>\n",
       "      <th>codigo</th>\n",
       "      <th>nome_ascii</th>\n",
       "      <th>docente_interno</th>\n",
       "      <th>docente_externo</th>\n",
       "      <th>nivel_ensino</th>\n",
       "      <th>ano</th>\n",
       "      <th>periodo</th>\n",
       "      <th>capacidade_aluno</th>\n",
       "      <th>local</th>\n",
       "      <th>...</th>\n",
       "      <th>distancia</th>\n",
       "      <th>tipo</th>\n",
       "      <th>data_consolidacao</th>\n",
       "      <th>agrupadora</th>\n",
       "      <th>qtd_aulas_lancadas</th>\n",
       "      <th>situacao_turma</th>\n",
       "      <th>convenio</th>\n",
       "      <th>modalidade_participantes</th>\n",
       "      <th>campus_turma</th>\n",
       "      <th>Unnamed: 24</th>\n",
       "    </tr>\n",
       "  </thead>\n",
       "  <tbody>\n",
       "    <tr>\n",
       "      <th>4880</th>\n",
       "      <td>57597051</td>\n",
       "      <td>IMD0019</td>\n",
       "      <td>RESOLUCAO DE PROBLEMAS MATEMATICOS PARA TI</td>\n",
       "      <td>5e7d1e765af746bb22d3eb10f26919b8</td>\n",
       "      <td>NaN</td>\n",
       "      <td>GRADUAÇÃO</td>\n",
       "      <td>2017</td>\n",
       "      <td>1</td>\n",
       "      <td>83.0</td>\n",
       "      <td>B203 - CIVT</td>\n",
       "      <td>...</td>\n",
       "      <td>f</td>\n",
       "      <td>1</td>\n",
       "      <td>2017-07-08 12:27:45.88</td>\n",
       "      <td>f</td>\n",
       "      <td>209.0</td>\n",
       "      <td>CONSOLIDADA</td>\n",
       "      <td>NaN</td>\n",
       "      <td>Presencial</td>\n",
       "      <td>Campus Central</td>\n",
       "      <td>NaN</td>\n",
       "    </tr>\n",
       "    <tr>\n",
       "      <th>4881</th>\n",
       "      <td>57597051</td>\n",
       "      <td>IMD0019</td>\n",
       "      <td>RESOLUCAO DE PROBLEMAS MATEMATICOS PARA TI</td>\n",
       "      <td>bb54c6e6fdf98c62c5e3ecad295d6347</td>\n",
       "      <td>NaN</td>\n",
       "      <td>GRADUAÇÃO</td>\n",
       "      <td>2017</td>\n",
       "      <td>1</td>\n",
       "      <td>83.0</td>\n",
       "      <td>B203 - CIVT</td>\n",
       "      <td>...</td>\n",
       "      <td>f</td>\n",
       "      <td>1</td>\n",
       "      <td>2017-07-08 12:27:45.88</td>\n",
       "      <td>f</td>\n",
       "      <td>209.0</td>\n",
       "      <td>CONSOLIDADA</td>\n",
       "      <td>NaN</td>\n",
       "      <td>Presencial</td>\n",
       "      <td>Campus Central</td>\n",
       "      <td>NaN</td>\n",
       "    </tr>\n",
       "    <tr>\n",
       "      <th>4888</th>\n",
       "      <td>57597055</td>\n",
       "      <td>IMD0019</td>\n",
       "      <td>RESOLUCAO DE PROBLEMAS MATEMATICOS PARA TI</td>\n",
       "      <td>5e7d1e765af746bb22d3eb10f26919b8</td>\n",
       "      <td>NaN</td>\n",
       "      <td>GRADUAÇÃO</td>\n",
       "      <td>2017</td>\n",
       "      <td>1</td>\n",
       "      <td>81.0</td>\n",
       "      <td>B204 - CIVT</td>\n",
       "      <td>...</td>\n",
       "      <td>f</td>\n",
       "      <td>1</td>\n",
       "      <td>2017-07-04 20:15:57.185</td>\n",
       "      <td>f</td>\n",
       "      <td>220.0</td>\n",
       "      <td>CONSOLIDADA</td>\n",
       "      <td>NaN</td>\n",
       "      <td>Presencial</td>\n",
       "      <td>Campus Central</td>\n",
       "      <td>NaN</td>\n",
       "    </tr>\n",
       "    <tr>\n",
       "      <th>4889</th>\n",
       "      <td>57597055</td>\n",
       "      <td>IMD0019</td>\n",
       "      <td>RESOLUCAO DE PROBLEMAS MATEMATICOS PARA TI</td>\n",
       "      <td>8733dedf2a1fc8440eb8f8ca21aa4d06</td>\n",
       "      <td>NaN</td>\n",
       "      <td>GRADUAÇÃO</td>\n",
       "      <td>2017</td>\n",
       "      <td>1</td>\n",
       "      <td>81.0</td>\n",
       "      <td>B204 - CIVT</td>\n",
       "      <td>...</td>\n",
       "      <td>f</td>\n",
       "      <td>1</td>\n",
       "      <td>2017-07-04 20:15:57.185</td>\n",
       "      <td>f</td>\n",
       "      <td>220.0</td>\n",
       "      <td>CONSOLIDADA</td>\n",
       "      <td>NaN</td>\n",
       "      <td>Presencial</td>\n",
       "      <td>Campus Central</td>\n",
       "      <td>NaN</td>\n",
       "    </tr>\n",
       "    <tr>\n",
       "      <th>4891</th>\n",
       "      <td>57597057</td>\n",
       "      <td>IMD0019</td>\n",
       "      <td>RESOLUCAO DE PROBLEMAS MATEMATICOS PARA TI</td>\n",
       "      <td>bb54c6e6fdf98c62c5e3ecad295d6347</td>\n",
       "      <td>NaN</td>\n",
       "      <td>GRADUAÇÃO</td>\n",
       "      <td>2017</td>\n",
       "      <td>1</td>\n",
       "      <td>89.0</td>\n",
       "      <td>B204</td>\n",
       "      <td>...</td>\n",
       "      <td>f</td>\n",
       "      <td>1</td>\n",
       "      <td>2017-07-08 12:45:27.759</td>\n",
       "      <td>f</td>\n",
       "      <td>204.0</td>\n",
       "      <td>CONSOLIDADA</td>\n",
       "      <td>NaN</td>\n",
       "      <td>Presencial</td>\n",
       "      <td>Campus Central</td>\n",
       "      <td>NaN</td>\n",
       "    </tr>\n",
       "  </tbody>\n",
       "</table>\n",
       "<p>5 rows × 25 columns</p>\n",
       "</div>"
      ],
      "text/plain": [
       "      id_turma   codigo                                  nome_ascii  \\\n",
       "4880  57597051  IMD0019  RESOLUCAO DE PROBLEMAS MATEMATICOS PARA TI   \n",
       "4881  57597051  IMD0019  RESOLUCAO DE PROBLEMAS MATEMATICOS PARA TI   \n",
       "4888  57597055  IMD0019  RESOLUCAO DE PROBLEMAS MATEMATICOS PARA TI   \n",
       "4889  57597055  IMD0019  RESOLUCAO DE PROBLEMAS MATEMATICOS PARA TI   \n",
       "4891  57597057  IMD0019  RESOLUCAO DE PROBLEMAS MATEMATICOS PARA TI   \n",
       "\n",
       "                       docente_interno docente_externo nivel_ensino   ano  \\\n",
       "4880  5e7d1e765af746bb22d3eb10f26919b8             NaN    GRADUAÇÃO  2017   \n",
       "4881  bb54c6e6fdf98c62c5e3ecad295d6347             NaN    GRADUAÇÃO  2017   \n",
       "4888  5e7d1e765af746bb22d3eb10f26919b8             NaN    GRADUAÇÃO  2017   \n",
       "4889  8733dedf2a1fc8440eb8f8ca21aa4d06             NaN    GRADUAÇÃO  2017   \n",
       "4891  bb54c6e6fdf98c62c5e3ecad295d6347             NaN    GRADUAÇÃO  2017   \n",
       "\n",
       "      periodo  capacidade_aluno        local     ...      distancia tipo  \\\n",
       "4880        1              83.0  B203 - CIVT     ...              f    1   \n",
       "4881        1              83.0  B203 - CIVT     ...              f    1   \n",
       "4888        1              81.0  B204 - CIVT     ...              f    1   \n",
       "4889        1              81.0  B204 - CIVT     ...              f    1   \n",
       "4891        1              89.0         B204     ...              f    1   \n",
       "\n",
       "            data_consolidacao agrupadora qtd_aulas_lancadas situacao_turma  \\\n",
       "4880   2017-07-08 12:27:45.88          f              209.0    CONSOLIDADA   \n",
       "4881   2017-07-08 12:27:45.88          f              209.0    CONSOLIDADA   \n",
       "4888  2017-07-04 20:15:57.185          f              220.0    CONSOLIDADA   \n",
       "4889  2017-07-04 20:15:57.185          f              220.0    CONSOLIDADA   \n",
       "4891  2017-07-08 12:45:27.759          f              204.0    CONSOLIDADA   \n",
       "\n",
       "      convenio modalidade_participantes    campus_turma  Unnamed: 24  \n",
       "4880       NaN               Presencial  Campus Central          NaN  \n",
       "4881       NaN               Presencial  Campus Central          NaN  \n",
       "4888       NaN               Presencial  Campus Central          NaN  \n",
       "4889       NaN               Presencial  Campus Central          NaN  \n",
       "4891       NaN               Presencial  Campus Central          NaN  \n",
       "\n",
       "[5 rows x 25 columns]"
      ]
     },
     "execution_count": 14,
     "metadata": {},
     "output_type": "execute_result"
    }
   ],
   "source": [
    "turmas_total = pd.read_csv('turmas-2017.1.csv', sep=\";\")\n",
    "turmas_total.head()\n",
    "\n",
    "turmas_imd  = turmas_total[turmas_total['codigo'].str.contains(\"IMD\")]\n",
    "\n",
    "turmas_imd.head()"
   ]
  },
  {
   "cell_type": "code",
   "execution_count": 17,
   "metadata": {
    "collapsed": false
   },
   "outputs": [
    {
     "name": "stdout",
     "output_type": "stream",
     "text": [
      "Turmas consolidadas: 103\n"
     ]
    }
   ],
   "source": [
    "turmas_consolidadas = turmas_imd[turmas_imd[\"situacao_turma\"].str.contains(\"CONSOLIDADA\")]\n",
    "\n",
    "print(\"Turmas consolidadas:\",turmas_consolidadas.shape[0])"
   ]
  },
  {
   "cell_type": "code",
   "execution_count": 18,
   "metadata": {
    "collapsed": false
   },
   "outputs": [
    {
     "data": {
      "text/plain": [
       "nome_ascii\n",
       "ADMINISTRACAO DE SISTEMAS OPERACIONAIS PARA REDES                                         1\n",
       "ANALISE ESTATISTICA PARA BIG DATA                                                         1\n",
       "APRENDIZAGEM DE MAQUINA PARA BIG DATA                                                     1\n",
       "ARMAZENAMENTO DE BIG DATA                                                                 1\n",
       "AVALIACAO DA INTERACAO HUMANO-COMPUTADOR                                                  1\n",
       "CALCULO DIFERENCIAL E INTEGRAL I                                                          3\n",
       "DESENVOLVIMENTO DE PROJETOS DE REDES DE COMPUTADORES                                      1\n",
       "DESENVOLVIMENTO DE SISTEMAS WEB II                                                        1\n",
       "DESIGN DA INTERACAO HUMANO-COMPUTADOR                                                     1\n",
       "DESIGN DE SOFTWARE I                                                                      1\n",
       "EDUCACAO A DISTANCIA                                                                      1\n",
       "ESTRUTURA DE DADOS BASICAS I                                                              4\n",
       "ESTRUTURAS DE DADOS BASICAS II                                                            2\n",
       "FUNDAMENTOS DE JOGOS DIGITAIS                                                             1\n",
       "FUNDAMENTOS DE SISTEMAS DE INFORMACAO                                                     1\n",
       "FUNDAMENTOS MATEMATICOS DA COMPUTACAO I                                                   3\n",
       "FUNDAMENTOS MATEMATICOS DA COMPUTACAO II                                                  2\n",
       "FUNDAMENTOS PEDAGOGICOS PARA A INFORMATICA EDUCACIONAL I                                  1\n",
       "GESTAO DE INFRAESTRUTURA DE TI                                                            1\n",
       "INTRODUCAO A ORGANIZACAO E ARQUITETURA DE COMPUTADORES                                    2\n",
       "INTRODUCAO AS TECNICAS DE PROGRAMACAO                                                     5\n",
       "LINGUAGEM DE PROGRAMACAO I                                                                5\n",
       "LINGUAGEM DE PROGRAMACAO II                                                               2\n",
       "METODOLOGIAS DE PROJETOS EM SISTEMAS EMBARCADOS                                           1\n",
       "MINERACAO DE DADOS                                                                        1\n",
       "PRATICAS DE LEITURA E ESCRITA EM PORTUGUES I                                              5\n",
       "PRATICAS DE LEITURA E ESCRITA EM PORTUGUES II                                             2\n",
       "PRATICAS DE LEITURA EM INGLES                                                             5\n",
       "PRATICAS DE TECNICAS DE PROGRAMACAO                                                       4\n",
       "PRINCIPIOS DE LEGISLACAO APLICAVEIS A TECNOLOGIA DA INFORMACAO E COMUNICACAO DE DADOS     1\n",
       "PROBABILIDADE                                                                             2\n",
       "PROCESSOS DE SOFTWARE                                                                     1\n",
       "PROGRAMACAO CIENTIFICA PARA BIG DATA                                                      1\n",
       "PROGRAMACAO COM BANCO DE DADOS                                                            1\n",
       "PROGRAMACAO EM HARDWARE DE REDES                                                          2\n",
       "PROJETO DE INOVACAO TECNOLOGICA                                                           2\n",
       "PROJETO INTEGRADO I                                                                       1\n",
       "PROJETO INTEGRADOR DE REDES I                                                             1\n",
       "REDES DE COMPUTADORES                                                                     1\n",
       "RESOLUCAO DE PROBLEMAS MATEMATICOS PARA TI                                               10\n",
       "SISTEMA DE INFORMACAO DISTRIBUIDO                                                         1\n",
       "SISTEMAS COLABORATIVOS DE APOIO A APRENDIZAGEM                                            1\n",
       "SISTEMAS DIGITAIS RECONFIGURAVEIS                                                         2\n",
       "SISTEMAS EMBARCADOS DE TEMPO REAL                                                         1\n",
       "TECNICAS DE PROTOTIPACAO E MONTAGEM DE CIRCUITOS E SISTEMAS ELETRONICOS                   1\n",
       "TECNOLOGIA DA INFORMACAO E SOCIEDADE                                                      5\n",
       "TECNOLOGIAS DE COMUNICACAO DE DADOS                                                       1\n",
       "TEORIA DE CIRCUITOS ELETRICOS                                                             1\n",
       "TOPICOS AVANCADOS EM COMPUTACAO MOVEL II                                                  1\n",
       "TOPICOS ESPECIAIS EM REDES DE COMPUTADORES B\"                                             1\n",
       "TOPICOS ESPECIAIS EM TECNOLOGIA DA INFORMACAO VI                                          1\n",
       "TOPICOS ESPECIAIS EM TECNOLOGIA DA INFORMACAO XI                                          1\n",
       "VETORES E GEOMETRIA ANALITICA                                                             3\n",
       "Name: situacao_turma, dtype: int64"
      ]
     },
     "execution_count": 18,
     "metadata": {},
     "output_type": "execute_result"
    }
   ],
   "source": [
    "turmas_consolidadas.pivot_table(index=\"nome_ascii\", values=\"situacao_turma\", aggfunc='count')"
   ]
  },
  {
   "cell_type": "markdown",
   "metadata": {},
   "source": [
    "2. (3 pontos) Realize um estudo envolvendo as propriedades de **assimétria** e **curtose** para as turmas IMD0033 (probabilidade) consolidadas em 2017.1. Utilize gráficos e explique os resultados. Reforce também os horários das disciplinas nos resultados. "
   ]
  },
  {
   "cell_type": "code",
   "execution_count": 41,
   "metadata": {
    "collapsed": false
   },
   "outputs": [
    {
     "data": {
      "text/plain": [
       "[57597912, 57597913]"
      ]
     },
     "execution_count": 41,
     "metadata": {},
     "output_type": "execute_result"
    }
   ],
   "source": [
    "turmas_prob = turmas_imd[turmas_imd[\"codigo\"].str.contains(\"IMD0033\")]\n",
    "\n",
    "\n",
    "codigo_turma = list(turmas_prob['id_turma'])\n",
    "\n",
    "codigo_turma"
   ]
  },
  {
   "cell_type": "code",
   "execution_count": 49,
   "metadata": {
    "collapsed": false
   },
   "outputs": [],
   "source": [
    "alunos_total = pd.read_csv('matricula-componente-20171.csv', sep=\";\")"
   ]
  },
  {
   "cell_type": "code",
   "execution_count": 54,
   "metadata": {
    "collapsed": false
   },
   "outputs": [
    {
     "data": {
      "text/plain": [
       "Index(['id_turma', 'id_discente', 'id_curso', 'unidade', 'nota', 'reposicao',\n",
       "       'faltas_unidade', 'media_final', 'numero_total_faltas', 'situacao'],\n",
       "      dtype='object')"
      ]
     },
     "execution_count": 54,
     "metadata": {},
     "output_type": "execute_result"
    }
   ],
   "source": [
    "alunos_prob1 = alunos_total[alunos_total[\"id_turma\"] == codigo_turma[0]]\n",
    "alunos_prob1 = alunos_prob1.dropna()\n",
    "alunos_prob2 = alunos_total[alunos_total[\"id_turma\"] == codigo_turma[1]]\n",
    "alunos_prob2 = alunos_prob2.dropna()\n",
    "alunos_prob1.columns"
   ]
  },
  {
   "cell_type": "code",
   "execution_count": 57,
   "metadata": {
    "collapsed": false
   },
   "outputs": [
    {
     "data": {
      "text/plain": [
       "4.392894113344194"
      ]
     },
     "execution_count": 57,
     "metadata": {},
     "output_type": "execute_result"
    }
   ],
   "source": [
    "# We can test how skewed a distribution is using the skew function.\n",
    "# A positive value means positive skew, \n",
    "# a negative value means negative skew, and close to zero means no skew.\n",
    "from scipy.stats import skew\n",
    "\n",
    "skewness = skew(alunos_prob1['nota'].value_counts())\n",
    "skewness"
   ]
  },
  {
   "cell_type": "code",
   "execution_count": 58,
   "metadata": {
    "collapsed": false
   },
   "outputs": [
    {
     "data": {
      "text/plain": [
       "3.9785262183599515"
      ]
     },
     "execution_count": 58,
     "metadata": {},
     "output_type": "execute_result"
    }
   ],
   "source": [
    "skewness = skew(alunos_prob2['nota'].value_counts())\n",
    "skewness"
   ]
  },
  {
   "cell_type": "code",
   "execution_count": null,
   "metadata": {
    "collapsed": true
   },
   "outputs": [],
   "source": []
  },
  {
   "cell_type": "code",
   "execution_count": 63,
   "metadata": {
    "collapsed": false
   },
   "outputs": [
    {
     "name": "stderr",
     "output_type": "stream",
     "text": [
      "C:\\ProgramData\\Anaconda3\\lib\\site-packages\\statsmodels\\nonparametric\\kdetools.py:20: VisibleDeprecationWarning: using a non-integer number instead of an integer will result in an error in the future\n",
      "  y = X[:m/2+1] + np.r_[0,X[m/2+1:],0]*1j\n"
     ]
    },
    {
     "data": {
      "image/png": "[encoded data removed]",
      "text/plain": [
       "<matplotlib.figure.Figure at 0x19085dc9128>"
      ]
     },
     "metadata": {},
     "output_type": "display_data"
    }
   ],
   "source": [
    "# seaborn is commonly imported as `sns`.\n",
    "import matplotlib.pyplot as plt\n",
    "import seaborn as sns\n",
    "\n",
    "#to switch to seaborn defaults, simply call the set() function.\n",
    "sns.set()\n",
    "\n",
    "# The four preset contexts, in order of relative size, are paper, notebook, talk, and poster\n",
    "sns.set_context(\"notebook\")\n",
    "\n",
    "# plot a univariate distribution of observations.\n",
    "sns.distplot(alunos_prob1[\"nota\"])\n",
    "plt.show()"
   ]
  },
  {
   "cell_type": "markdown",
   "metadata": {},
   "source": [
    "3. (3 pontos) Utilize a biblioteca seaborn para traçar gráficos que descrevam as distribuições estatísticas (utilizar as funções **facetgrid** e **map**) de todas as turmas IMD0030 (Linguagem de Programação I) consolidas em 2017.1. Na análise, assuma como referência as médias finais e a situação dos alunos. "
   ]
  },
  {
   "cell_type": "code",
   "execution_count": null,
   "metadata": {
    "collapsed": true
   },
   "outputs": [],
   "source": []
  },
  {
   "cell_type": "markdown",
   "metadata": {},
   "source": [
    "4. (3 pontos) Utilize a biblioteca seaborn para traçar gráficos de histograma referente as médias finais de todas as turmas IMD0029 (Estrutura de dados I) consolidadas em 2017.1. Incremente nos gráficos linhas que descrevam a média e mediana da distribuição. "
   ]
  },
  {
   "cell_type": "code",
   "execution_count": null,
   "metadata": {
    "collapsed": true
   },
   "outputs": [],
   "source": []
  }
 ],
 "metadata": {
  "kernelspec": {
   "display_name": "Python 3",
   "language": "python",
   "name": "python3"
  },
  "language_info": {
   "codemirror_mode": {
    "name": "ipython",
    "version": 3
   },
   "file_extension": ".py",
   "mimetype": "text/x-python",
   "name": "python",
   "nbconvert_exporter": "python",
   "pygments_lexer": "ipython3",
   "version": "3.6.0"
  }
 },
 "nbformat": 4,
 "nbformat_minor": 2
}
